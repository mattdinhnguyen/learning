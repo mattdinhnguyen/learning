{
 "cells": [
  {
   "cell_type": "code",
   "execution_count": 3,
   "metadata": {
    "collapsed": true,
    "jupyter": {
     "outputs_hidden": true
    }
   },
   "outputs": [],
   "source": [
    "from resources.utils import run_tests"
   ]
  },
  {
   "cell_type": "markdown",
   "metadata": {},
   "source": [
    "# Counting inversions\n",
    "### Brute force $O(N^2)$"
   ]
  },
  {
   "cell_type": "code",
   "execution_count": 23,
   "metadata": {
    "collapsed": true,
    "jupyter": {
     "outputs_hidden": true
    }
   },
   "outputs": [],
   "source": [
    "def counting_inversions_n_squared(array):\n",
    "    count = 0\n",
    "    \n",
    "    # O(N ** 2)\n",
    "    for i in range(len(array)):\n",
    "        for j in range(i, len(array)):\n",
    "            if array[i] > array[j]:\n",
    "                count += 1\n",
    "                \n",
    "    return count"
   ]
  },
  {
   "cell_type": "code",
   "execution_count": 27,
   "metadata": {
    "collapsed": false,
    "jupyter": {
     "outputs_hidden": false
    }
   },
   "outputs": [],
   "source": [
    "tests = [\n",
    "    (dict(array=[1, 2, 3, 4, 5]), 0),\n",
    "    (dict(array=[1, 2, 3]), 0),\n",
    "    (dict(array=range(1000)), 0),\n",
    "    (dict(array=[2, 1]), 1),\n",
    "    (dict(array=[3, 2, 1]), 3),\n",
    "    (dict(array=range(3)[::-1]), 3),\n",
    "    (dict(array=range(4)[::-1]), 6),\n",
    "    (dict(array=range(10)[::-1]), 10 * 9 / 2),\n",
    "    (dict(array=range(100)[::-1]), 100 * 99 / 2),\n",
    "    (dict(array=[1, 3, 5, 2, 4, 6]), 3)\n",
    "]"
   ]
  },
  {
   "cell_type": "code",
   "execution_count": 28,
   "metadata": {
    "collapsed": false,
    "jupyter": {
     "outputs_hidden": false
    }
   },
   "outputs": [
    {
     "name": "stdout",
     "output_type": "stream",
     "text": [
      "✓ All tests successful\n"
     ]
    }
   ],
   "source": [
    "run_tests(tests, counting_inversions_n_squared)"
   ]
  },
  {
   "cell_type": "markdown",
   "metadata": {},
   "source": [
    "### $O(Nlog(N))$"
   ]
  },
  {
   "cell_type": "code",
   "execution_count": 29,
   "metadata": {
    "collapsed": false,
    "jupyter": {
     "outputs_hidden": false
    }
   },
   "outputs": [
    {
     "data": {
      "text/plain": [
       "2.5"
      ]
     },
     "execution_count": 29,
     "metadata": {},
     "output_type": "execute_result"
    }
   ],
   "source": [
    "5 / 2"
   ]
  },
  {
   "cell_type": "code",
   "execution_count": 82,
   "metadata": {
    "collapsed": false,
    "jupyter": {
     "outputs_hidden": false
    }
   },
   "outputs": [],
   "source": [
    "def counting_inversions(array):\n",
    "    \n",
    "    def _combine(left, right):\n",
    "        output = []\n",
    "        pointer_left = 0\n",
    "        pointer_right = 0\n",
    "        \n",
    "        while True:\n",
    "            if pointer_left == len(left):\n",
    "                output += right[pointer_right:]\n",
    "                \n",
    "                if pointer_right < len(right) - 1:\n",
    "                    print('+1')\n",
    "                \n",
    "                break\n",
    "            elif pointer_right == len(right):\n",
    "                print('+1')\n",
    "#                 for _ in range(len(left) - pointer_left):\n",
    "#                     print(len(left), pointer_left)\n",
    "#                     print('+1XXX')\n",
    "                output += left[pointer_left:]\n",
    "                break\n",
    "            \n",
    "            if left[pointer_left] < right[pointer_right]:\n",
    "                output.append(left[pointer_left])\n",
    "                pointer_left += 1\n",
    "            else:\n",
    "                output.append(right[pointer_right])\n",
    "                print('+1X')\n",
    "                pointer_right += 1\n",
    "            \n",
    "        return output\n",
    "    \n",
    "    if len(array) <= 1:\n",
    "        return array\n",
    "    else:\n",
    "        mid_point = int(len(array) / 2)\n",
    "        count_left = counting_inversions(array[:mid_point])\n",
    "        count_right = counting_inversions(array[mid_point:])\n",
    "        # count_split = ???\n",
    "        \n",
    "        return _combine(counting_inversions(count_left), counting_inversions(count_right))"
   ]
  },
  {
   "cell_type": "code",
   "execution_count": 83,
   "metadata": {
    "collapsed": false,
    "jupyter": {
     "outputs_hidden": false
    }
   },
   "outputs": [
    {
     "name": "stdout",
     "output_type": "stream",
     "text": [
      "+1\n",
      "+1\n",
      "+1\n",
      "+1\n",
      "+1X\n",
      "+1X\n"
     ]
    },
    {
     "data": {
      "text/plain": [
       "[1, 2, 3, 4, 5, 6]"
      ]
     },
     "execution_count": 83,
     "metadata": {},
     "output_type": "execute_result"
    }
   ],
   "source": [
    "counting_inversions(**tests[-1][0])"
   ]
  },
  {
   "cell_type": "code",
   "execution_count": null,
   "metadata": {
    "collapsed": true,
    "jupyter": {
     "outputs_hidden": true
    }
   },
   "outputs": [],
   "source": []
  }
 ],
 "metadata": {
  "anaconda-cloud": {},
  "kernelspec": {
   "display_name": "Python 3",
   "language": "python",
   "name": "python3"
  },
  "language_info": {
   "codemirror_mode": {
    "name": "ipython",
    "version": 3
   },
   "file_extension": ".py",
   "mimetype": "text/x-python",
   "name": "python",
   "nbconvert_exporter": "python",
   "pygments_lexer": "ipython3",
   "version": "3.7.4"
  }
 },
 "nbformat": 4,
 "nbformat_minor": 4
}
