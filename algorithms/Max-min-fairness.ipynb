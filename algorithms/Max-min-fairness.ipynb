{
 "cells": [
  {
   "cell_type": "markdown",
   "metadata": {},
   "source": [
    "# Max-min fairness"
   ]
  },
  {
   "cell_type": "markdown",
   "metadata": {},
   "source": [
    "https://www.wikiwand.com/en/Max-min_fairness"
   ]
  },
  {
   "cell_type": "code",
   "execution_count": 1,
   "metadata": {
    "collapsed": true,
    "jupyter": {
     "outputs_hidden": true
    }
   },
   "outputs": [],
   "source": [
    "from resources.utils import run_tests"
   ]
  },
  {
   "cell_type": "code",
   "execution_count": 24,
   "metadata": {
    "collapsed": true,
    "jupyter": {
     "outputs_hidden": true
    }
   },
   "outputs": [],
   "source": [
    "def max_min_fairness(demands, capacity):\n",
    "    capacity_remaining = capacity\n",
    "    output = []\n",
    "    \n",
    "    for i, demand in enumerate(demands):\n",
    "        share = capacity_remaining / (len(demands) - i)\n",
    "        allocation = min(share, demand)\n",
    "        \n",
    "        if i == len(demands) - 1:\n",
    "            allocation = max(share, capacity_remaining)\n",
    "        \n",
    "        output.append(allocation)\n",
    "        capacity_remaining -= allocation\n",
    "    \n",
    "    return output"
   ]
  },
  {
   "cell_type": "code",
   "execution_count": 25,
   "metadata": {
    "collapsed": false,
    "jupyter": {
     "outputs_hidden": false
    }
   },
   "outputs": [],
   "source": [
    "tests = [\n",
    "    (dict(demands=[1, 1], capacity=20), [1, 19]),\n",
    "    (dict(demands=[2, 8], capacity=10), [2, 8]),\n",
    "    (dict(demands=[2, 8], capacity=5), [2, 3]),\n",
    "    (dict(demands=[1, 2, 5, 10], capacity=20), [1, 2, 5, 12]),\n",
    "    (dict(demands=[2, 2.6, 4, 5], capacity=10), [2, 2.6, 2.7, 2.7]),\n",
    "]"
   ]
  },
  {
   "cell_type": "code",
   "execution_count": 26,
   "metadata": {
    "collapsed": false,
    "jupyter": {
     "outputs_hidden": false
    }
   },
   "outputs": [
    {
     "name": "stdout",
     "output_type": "stream",
     "text": [
      "✓ All tests successful\n"
     ]
    }
   ],
   "source": [
    "run_tests(tests, max_min_fairness)"
   ]
  }
 ],
 "metadata": {
  "anaconda-cloud": {},
  "kernelspec": {
   "display_name": "Python 3",
   "language": "python",
   "name": "python3"
  },
  "language_info": {
   "codemirror_mode": {
    "name": "ipython",
    "version": 3
   },
   "file_extension": ".py",
   "mimetype": "text/x-python",
   "name": "python",
   "nbconvert_exporter": "python",
   "pygments_lexer": "ipython3",
   "version": "3.7.4"
  }
 },
 "nbformat": 4,
 "nbformat_minor": 4
}
