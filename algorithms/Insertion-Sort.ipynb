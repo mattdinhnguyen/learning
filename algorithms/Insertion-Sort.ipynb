{
 "cells": [
  {
   "cell_type": "markdown",
   "metadata": {},
   "source": [
    "# Insertion Sort"
   ]
  },
  {
   "cell_type": "markdown",
   "metadata": {},
   "source": [
    "### Step 0- Testing utilities\n",
    "Take a look at `resources/utils.py` if you're curious."
   ]
  },
  {
   "cell_type": "code",
   "execution_count": 8,
   "metadata": {
    "collapsed": false,
    "jupyter": {
     "outputs_hidden": false
    }
   },
   "outputs": [],
   "source": [
    "from resources.utils import run_tests"
   ]
  },
  {
   "cell_type": "markdown",
   "metadata": {},
   "source": [
    "### Step 1- Insertion sort"
   ]
  },
  {
   "cell_type": "code",
   "execution_count": 9,
   "metadata": {},
   "outputs": [],
   "source": [
    "def insertion_sort(input_list):\n",
    "    def swap(i, j):\n",
    "        input_list[i], input_list[j] = input_list[j], input_list[i]\n",
    "    \n",
    "    cursor = 1\n",
    "    \n",
    "    while cursor < len(input_list):\n",
    "        if input_list[cursor] < input_list[cursor - 1]:\n",
    "            swap(cursor, cursor - 1)\n",
    "            if cursor > 1:\n",
    "                cursor -= 1\n",
    "            else:\n",
    "                cursor += 1\n",
    "        else:\n",
    "            cursor += 1\n",
    "                \n",
    "    return input_list"
   ]
  },
  {
   "cell_type": "code",
   "execution_count": 12,
   "metadata": {},
   "outputs": [],
   "source": [
    "tests = [\n",
    "    ({'input_list': [3,2,1]}, [1,2,3]),\n",
    "    ({'input_list': []}, []),\n",
    "    ({'input_list': [1,2]}, [1,2]),\n",
    "    ({'input_list': [5,1,4,2,3]}, [1,2,3,4,5]),\n",
    "    ({'input_list': []}, []),\n",
    "]"
   ]
  },
  {
   "cell_type": "code",
   "execution_count": 29,
   "metadata": {
    "collapsed": false,
    "jupyter": {
     "outputs_hidden": false
    }
   },
   "outputs": [
    {
     "name": "stdout",
     "output_type": "stream",
     "text": [
      "✓ All tests successful\n"
     ]
    }
   ],
   "source": [
    "run_tests(tests, insertion_sort)"
   ]
  },
  {
   "cell_type": "code",
   "execution_count": 13,
   "metadata": {},
   "outputs": [
    {
     "name": "stdout",
     "output_type": "stream",
     "text": [
      "\n",
      "            error in : {'input_list': [3, 2, 1]}\n",
      "            expected : [1, 2, 3]\n",
      "            actual   : [3, None, None]\n",
      "            \n",
      "\n",
      "            error in : {'input_list': []}\n",
      "            expected : []\n",
      "            actual   : None\n",
      "            \n",
      "\n",
      "            error in : {'input_list': [1, 2]}\n",
      "            expected : [1, 2]\n",
      "            actual   : [1, None]\n",
      "            \n",
      "\n",
      "            error in : {'input_list': [5, 1, 4, 2, 3]}\n",
      "            expected : [1, 2, 3, 4, 5]\n",
      "            actual   : [5, None, None, None, None]\n",
      "            \n",
      "\n",
      "            error in : {'input_list': []}\n",
      "            expected : []\n",
      "            actual   : None\n",
      "            \n"
     ]
    }
   ],
   "source": [
    "def mysteryAlgorithmOne(input_list):\n",
    "    for x in input_list:\n",
    "        B = [None for i in range(len(input_list))]\n",
    "        for i in range(len(B)):\n",
    "            if B[i] == None or B[i] > x:\n",
    "                j = len(B)-1\n",
    "                while j > i:\n",
    "                    B[j] = B[j-1]\n",
    "                    j -= 1\n",
    "                B[i] = x\n",
    "                break\n",
    "        return B\n",
    "\n",
    "run_tests(tests, mysteryAlgorithmOne)"
   ]
  },
  {
   "cell_type": "code",
   "execution_count": 22,
   "metadata": {},
   "outputs": [
    {
     "name": "stdout",
     "output_type": "stream",
     "text": [
      "✓ All tests successful\n"
     ]
    }
   ],
   "source": [
    "def mysteryAlgorithmTwo(input_list):\n",
    "    for i in range(1,len(input_list)):\n",
    "        current = input_list[i]\n",
    "        j = i-1\n",
    "        while j >= 0 and input_list[j] > current:\n",
    "            input_list[j+1] = input_list[j]\n",
    "            j -= 1\n",
    "        input_list[j+1] = current\n",
    "    return input_list\n",
    "run_tests(tests, mysteryAlgorithmTwo)"
   ]
  }
 ],
 "metadata": {
  "anaconda-cloud": {},
  "kernelspec": {
   "display_name": "Python 3",
   "language": "python",
   "name": "python3"
  },
  "language_info": {
   "codemirror_mode": {
    "name": "ipython",
    "version": 3
   },
   "file_extension": ".py",
   "mimetype": "text/x-python",
   "name": "python",
   "nbconvert_exporter": "python",
   "pygments_lexer": "ipython3",
   "version": "3.7.4"
  }
 },
 "nbformat": 4,
 "nbformat_minor": 4
}
