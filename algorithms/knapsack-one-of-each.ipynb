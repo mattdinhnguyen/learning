{
 "cells": [
  {
   "cell_type": "markdown",
   "metadata": {},
   "source": [
    "# Knapsack one of each item"
   ]
  },
  {
   "cell_type": "code",
   "execution_count": 2,
   "metadata": {},
   "outputs": [],
   "source": [
    "from typing import List"
   ]
  },
  {
   "cell_type": "code",
   "execution_count": 13,
   "metadata": {},
   "outputs": [],
   "source": [
    "# this amounts to a greedy solution, incorrect\n",
    "def knapsack_one_of_each_attempt1(ws: List[int],\n",
    "                         vs: List[int],\n",
    "                         b: int) -> int:\n",
    "    n = len(ws)\n",
    "    k = [0] * n\n",
    "    w = [0] * n\n",
    "    \n",
    "    k[0] = vs[0] if ws[0] <= b else 0\n",
    "    w[0] = ws[0] if ws[0] <= b else 0\n",
    "    for i in range(1, n):\n",
    "        k[i], w[i] = max(\n",
    "            (vs[i] if ws[i] <= b else 0, ws[i]),  # just the item itself\n",
    "            max([\n",
    "                (\n",
    "                    (vs[i] if w[j] + ws[i] <= b else 0) + k[j],\n",
    "                    w[j] + (ws[i] if w[j] + ws[i] <= b else 0)\n",
    "                )\n",
    "                for j in range(i)\n",
    "            ])\n",
    "        )\n",
    "    \n",
    "    print(w)\n",
    "    print(k)\n",
    "    return k[-1]"
   ]
  },
  {
   "cell_type": "code",
   "execution_count": 15,
   "metadata": {},
   "outputs": [
    {
     "name": "stdout",
     "output_type": "stream",
     "text": [
      "[15, 15, 15, 20]\n",
      "[15, 15, 15, 16]\n"
     ]
    },
    {
     "data": {
      "text/plain": [
       "False"
      ]
     },
     "execution_count": 15,
     "metadata": {},
     "output_type": "execute_result"
    }
   ],
   "source": [
    "knapsack_one_of_each([15, 12, 10, 5], [15, 10, 8, 1], 22) == 18"
   ]
  },
  {
   "cell_type": "code",
   "execution_count": 16,
   "metadata": {},
   "outputs": [],
   "source": [
    "import numpy as np"
   ]
  },
  {
   "cell_type": "code",
   "execution_count": 21,
   "metadata": {},
   "outputs": [],
   "source": [
    "def knapsack_one_of_each_attempt2(ws: List[int],\n",
    "                         vs: List[int],\n",
    "                         b: int) -> int:\n",
    "    n = len(ws)\n",
    "    k = np.zeros((n + 1, b + 1))\n",
    "    \n",
    "    for i in range(1, n + 1):\n",
    "        for b in range(1, b + 1):\n",
    "            if ws[i - 1] <= b:\n",
    "                k[i, b] = max(k[i, b - ws[i - 1]] + vs[i - 1],\n",
    "                             k[i - 1, b])\n",
    "            else:\n",
    "                k[i, b] = k[i - 1, b]\n",
    "                \n",
    "    return k[n, b]"
   ]
  },
  {
   "cell_type": "code",
   "execution_count": 23,
   "metadata": {},
   "outputs": [
    {
     "data": {
      "text/plain": [
       "18.0"
      ]
     },
     "execution_count": 23,
     "metadata": {},
     "output_type": "execute_result"
    }
   ],
   "source": [
    "knapsack_one_of_each_attempt2([15, 12, 10, 5], [15, 10, 8, 1], 22)"
   ]
  }
 ],
 "metadata": {
  "kernelspec": {
   "display_name": "Python 3",
   "language": "python",
   "name": "python3"
  },
  "language_info": {
   "codemirror_mode": {
    "name": "ipython",
    "version": 3
   },
   "file_extension": ".py",
   "mimetype": "text/x-python",
   "name": "python",
   "nbconvert_exporter": "python",
   "pygments_lexer": "ipython3",
   "version": "3.7.4"
  }
 },
 "nbformat": 4,
 "nbformat_minor": 4
}
