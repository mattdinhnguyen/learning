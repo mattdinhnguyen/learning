{
 "cells": [
  {
   "cell_type": "code",
   "execution_count": 41,
   "metadata": {},
   "outputs": [],
   "source": [
    "def some_decorator(f):\n",
    "    def wraps(*args):\n",
    "        print(f\"Calling function '{f.__name__}' {args}\")\n",
    "        return f(args)\n",
    "    return wraps\n",
    "\n",
    "@some_decorator\n",
    "def decorated_function(x):\n",
    "    print(f\"With argument '{x}'\")"
   ]
  },
  {
   "cell_type": "code",
   "execution_count": 42,
   "metadata": {},
   "outputs": [
    {
     "name": "stdout",
     "output_type": "stream",
     "text": [
      "With argument 'hello matthew'\n",
      "Calling function 'decorated_function' ('hello matthew',)\n",
      "With argument '('hello matthew',)'\n"
     ]
    }
   ],
   "source": [
    "x = \"hello matthew\"\n",
    "print(f\"With argument '{x}'\")\n",
    "decorated_function(x)"
   ]
  },
  {
   "cell_type": "code",
   "execution_count": 39,
   "metadata": {},
   "outputs": [],
   "source": [
    "from resources.utils import run_tests\n",
    "\n",
    "class Node(object):\n",
    "    def __init__(self, val, left=None, right=None):\n",
    "        self.value = val\n",
    "        self.left = left\n",
    "        self.right = right\n",
    "\n",
    "    def AddNode(self, node):\n",
    "        if node.value >= self.value:\n",
    "            if self.right:\n",
    "                self.right.AddNode(node)\n",
    "            else:\n",
    "                self.right = node\n",
    "        elif node.value < self.value:\n",
    "            if self.left:\n",
    "                self.left.AddNode(node)\n",
    "            else:\n",
    "                self.left = node\n",
    "\n",
    "    def children(self, clist):\n",
    "        g = []\n",
    "        cls = []\n",
    "        for c in clist:\n",
    "            if c:\n",
    "                cls.append(str(c.value))\n",
    "                if c.left:\n",
    "                    g.append(c.left)\n",
    "                else:\n",
    "                    g.append(None)\n",
    "                if c.right:\n",
    "                    g.append(c.right)\n",
    "                else:\n",
    "                    g.append(None)\n",
    "            else:\n",
    "                cls.append(\"None\")\n",
    "        if [_g for _g in g if _g != \"None\"]:\n",
    "            return  \"  \".join(cls) + \"\\n\" + self.children(g)\n",
    "        else:\n",
    "            return \"  \".join(cls)\n",
    " \n",
    "    def __str__(self):\n",
    "        return \"{}\\n{}\".format(self.value, self.children([self.left,self.right]))\n",
    "\n",
    "def L2bst(l):\n",
    "    root = Node(l[0])\n",
    "    for el in l[1:]:\n",
    "        root.AddNode(Node(el))\n",
    "    return root"
   ]
  },
  {
   "cell_type": "code",
   "execution_count": 40,
   "metadata": {},
   "outputs": [
    {
     "name": "stdout",
     "output_type": "stream",
     "text": [
      "[7, 7, 1, 5, 9, 8, 7, 5, 8, 6]\n",
      "7\n",
      "1  7\n",
      "None  5  None  9\n",
      "None  5  8  None\n",
      "None  6  7  8\n",
      "None  None  None  None  None  None\n"
     ]
    }
   ],
   "source": [
    "import random\n",
    "random.seed(0)\n",
    "#random_list = [random.randint(1, 1000) for _ in range(100)]\n",
    "random_list = [random.randint(1, 10) for _ in range(10)]\n",
    "#random_list = [7, 7, 3, 5]\n",
    "print(random_list)\n",
    "print(L2bst(random_list))"
   ]
  }
 ],
 "metadata": {
  "kernelspec": {
   "display_name": "Python 3",
   "language": "python",
   "name": "python3"
  },
  "language_info": {
   "codemirror_mode": {
    "name": "ipython",
    "version": 3
   },
   "file_extension": ".py",
   "mimetype": "text/x-python",
   "name": "python",
   "nbconvert_exporter": "python",
   "pygments_lexer": "ipython3",
   "version": "3.7.4"
  }
 },
 "nbformat": 4,
 "nbformat_minor": 4
}
