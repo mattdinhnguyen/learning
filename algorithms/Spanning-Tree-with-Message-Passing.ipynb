{
 "cells": [
  {
   "cell_type": "markdown",
   "metadata": {},
   "source": [
    "# Spanning Tree with Message Passing"
   ]
  },
  {
   "cell_type": "code",
   "execution_count": 16,
   "metadata": {
    "collapsed": true,
    "jupyter": {
     "outputs_hidden": true
    }
   },
   "outputs": [],
   "source": [
    "%matplotlib inline"
   ]
  },
  {
   "cell_type": "code",
   "execution_count": 8,
   "metadata": {
    "collapsed": true,
    "jupyter": {
     "outputs_hidden": true
    }
   },
   "outputs": [],
   "source": [
    "import networkx as nx"
   ]
  },
  {
   "cell_type": "markdown",
   "metadata": {},
   "source": [
    "Spanning tree of an undirected graph is a tree which includes all the vertices of the graph with a minimum number of possible edges.\n",
    "\n",
    "One application of spanning trees is in the [Spanning Tree Protocol (STP)](https://www.wikiwand.com/en/Spanning_Tree_Protocol), where we want to avoid loops in the topology.\n",
    "\n",
    "We want to construct an algorithm that relies on messages passed between nodes and not the knowledge of the overall topology."
   ]
  },
  {
   "cell_type": "markdown",
   "metadata": {},
   "source": [
    "### Identifying the \"root\""
   ]
  },
  {
   "cell_type": "markdown",
   "metadata": {},
   "source": [
    "The idea is to minimize the distance from each node to the \"root\". The choice of root does not matter. For simplicity we'll designate the node with the lowest ID as the root.\n",
    "\n",
    "This suggests that initially each node can think of itself as the root node and then send the state of its knowledge to neighbors."
   ]
  },
  {
   "cell_type": "markdown",
   "metadata": {},
   "source": [
    "### Avoiding loops"
   ]
  },
  {
   "cell_type": "markdown",
   "metadata": {},
   "source": [
    "#### 3 node [clique](https://www.wikiwand.com/en/Clique)"
   ]
  },
  {
   "cell_type": "code",
   "execution_count": 19,
   "metadata": {
    "collapsed": false,
    "jupyter": {
     "outputs_hidden": false
    }
   },
   "outputs": [
    {
     "data": {
      "image/png": "[encoded data removed]",
      "text/plain": [
       "<matplotlib.figure.Figure at 0x10ad1c6d8>"
      ]
     },
     "metadata": {},
     "output_type": "display_data"
    }
   ],
   "source": [
    "clique = nx.Graph()\n",
    "clique.add_nodes_from([1, 2, 3])\n",
    "clique.add_edges_from([(1, 2), (1, 3), (3, 2)])\n",
    "\n",
    "nx.draw_networkx(clique)"
   ]
  },
  {
   "cell_type": "markdown",
   "metadata": {},
   "source": [
    "In this case we should remove the link between 2 and 3. In that case 3 and 2 have the minimum distance of 1 to the root node 1."
   ]
  },
  {
   "cell_type": "markdown",
   "metadata": {},
   "source": [
    "#### 4 node [cycle](https://www.wikiwand.com/en/Cycle_graph)"
   ]
  },
  {
   "cell_type": "code",
   "execution_count": 28,
   "metadata": {
    "collapsed": false,
    "jupyter": {
     "outputs_hidden": false
    }
   },
   "outputs": [
    {
     "data": {
      "image/png": "[encoded data removed]",
      "text/plain": [
       "<matplotlib.figure.Figure at 0x10b5d8080>"
      ]
     },
     "metadata": {},
     "output_type": "display_data"
    }
   ],
   "source": [
    "cycle = nx.Graph()\n",
    "cycle.add_nodes_from([1, 2, 3, 4])\n",
    "cycle.add_edges_from([(1, 2), (1, 3), (3, 4), (2, 4)])\n",
    "\n",
    "nx.draw_networkx(cycle)"
   ]
  },
  {
   "cell_type": "markdown",
   "metadata": {},
   "source": [
    "In this case 4 has 2 paths to root (i.e. 1). 4 can either go through 2 or it can go through 3. To break this loop we need to pick one. Let's say that we always want the node to go through the lower ID node to break the tie. Therefore our algorithm should be able to deactivate the link between 3 and 4."
   ]
  },
  {
   "cell_type": "markdown",
   "metadata": {},
   "source": [
    "### Processing messages"
   ]
  },
  {
   "cell_type": "markdown",
   "metadata": {},
   "source": [
    "In general upon receiving a message a node needs to take a subset of these actions:\n",
    "- **Update** the local knowledge\n",
    "- **Activate** link(s) to neighbor(s)\n",
    "- **Deactivate** link(s) to neighbor(s)\n",
    "- **Inform** a subset of neighbors of a change\n",
    "\n",
    "For instance a simple scenario is when a node receives a message that suggests that the originator of the message knows of a root that has a lower switch ID than the current node (e.g. message's root < node's root). In this case we have to:\n",
    "- Update the current node's root\n",
    "- Activate the link to the message's originator (if previously deactivated)\n",
    "- Inform all neighbors except for the message's originator of the changes to propagate the newfound knowledge.\n",
    "\n",
    "The rest of this algorithm revolves around working through different scenarios and taking the appropriate set of actions."
   ]
  },
  {
   "cell_type": "markdown",
   "metadata": {},
   "source": [
    "### Test cases"
   ]
  },
  {
   "cell_type": "markdown",
   "metadata": {},
   "source": [
    "A number of test cases helped me with debugging the following issues with my algorithm:\n",
    "#### 1. Makes sure that you're not dropping any links that you do not have to.\n",
    "\n",
    "##### 1.1 Simple\n",
    "```\n",
    "1 --- 2 --- 3\n",
    "```\n",
    "\n",
    "##### 1.2 No loop\n",
    "```\n",
    "1 --- 2 --- 3 --- 4\n",
    "|           |     \n",
    "|           |     \n",
    "5     6 --- 7 --- 8\n",
    "|     |           |\n",
    "|     |           |\n",
    "9     10 -- 11    12\n",
    "      |     \n",
    "      |        \n",
    "      13\n",
    "```\n",
    "\n",
    "#### 2. Break ties appropriately in a 4 node cycle\n",
    "\n",
    "##### 2.1 Single loop\n",
    "```\n",
    "1 --- 2\n",
    "|     |\n",
    "|     |\n",
    "3 --- 4\n",
    "```\n",
    "\n",
    "#### 3. Handle 3 node cliques\n",
    "##### 3.1 Complex loop\n",
    "```\n",
    "1 --- 2 --- 3 --- 4\n",
    "|     |     |     |\n",
    "|     |     |     |\n",
    "5 --- 6 --- 7 --- 8\n",
    "|     |     |     |\n",
    "|     |     |     |\n",
    "9 --- 10 -- 11 -- 12\n",
    "      |     |\n",
    "      |     |\n",
    "       \\   /\n",
    "        13\n",
    "```\n",
    "\n",
    "#### 4. Make sure you propagate the root and update nodes all the way \n",
    "##### 4.1 Loop with tail\n",
    "```\n",
    "2 --- 7\n",
    "|     |\n",
    "|     |\n",
    "3 --- 5 --- 9 --- 11 --- 1 \n",
    "```\n",
    "\n",
    "### Here are a few other test topologies that can help you tease out other edge cases\n",
    "\n",
    "#### Topology described [here](https://www.youtube.com/watch?v=4jXzuEu-qYE)\n",
    "```\n",
    "2 --- 1 --- 3\n",
    "|     |   /\n",
    "|     | /\n",
    "6 --- 8 --- 4\n",
    "  \\   |\n",
    "   \\  |\n",
    "5 --- 7\n",
    "```\n",
    "\n",
    "#### Hexagon\n",
    "```\n",
    "  1---2\n",
    " / \\ / \\\n",
    "3---4---5\n",
    " \\ / \\ /\n",
    "  6---7\n",
    "```\n",
    "\n",
    "#### Very complex\n",
    "```\n",
    "             11    6     8\n",
    "           /   * /   * *   *\n",
    "          2     3     7     10\n",
    "          *     *     *     |\n",
    "          4     5     1     12\n",
    "          |*   * *   * *    *|\n",
    "          |  13    14    15  |\n",
    "          |   |\\  *  *  /|   |\n",
    "          |   | 16    17 |   |\n",
    "          |   |   *  /   |   |\n",
    "          |   |    18    |   |\n",
    "          |   |   *  *   |   |\n",
    "          |   | 19    20 |   |\n",
    "          |   |  |*  /|  |   |\n",
    "          |   |  *  X |  |   |\n",
    "          *   *  |/  *|  *   *\n",
    "          |   | 22    23 |   |\n",
    "          |   |   \\  /   |   |\n",
    "          |   |    24    |   |\n",
    "          |   |   *  *   |   |\n",
    "          |   | 25    26 |   |\n",
    "          |   |/  \\  *  *|   |\n",
    "          |  27    28    29  |\n",
    "          |/   * /   \\ *   \\ |\n",
    "          40    41    42    43\n",
    "          *     |     *     *\n",
    "          34    35    36    37\n",
    "           *   / *   * *    /\n",
    "             38    39    33\n",
    "```"
   ]
  }
 ],
 "metadata": {
  "anaconda-cloud": {},
  "kernelspec": {
   "display_name": "Python 3",
   "language": "python",
   "name": "python3"
  },
  "language_info": {
   "codemirror_mode": {
    "name": "ipython",
    "version": 3
   },
   "file_extension": ".py",
   "mimetype": "text/x-python",
   "name": "python",
   "nbconvert_exporter": "python",
   "pygments_lexer": "ipython3",
   "version": "3.7.4"
  }
 },
 "nbformat": 4,
 "nbformat_minor": 4
}
