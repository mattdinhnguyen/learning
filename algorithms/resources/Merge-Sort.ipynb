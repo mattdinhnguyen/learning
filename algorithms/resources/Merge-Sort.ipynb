{
 "cells": [
  {
   "cell_type": "markdown",
   "metadata": {},
   "source": [
    "# Merge Sort\n",
    "Known to [John von Neumann](https://www.wikiwand.com/en/John_von_Neumann) in 1945, 70+ years ago"
   ]
  },
  {
   "cell_type": "code",
   "execution_count": 3,
   "metadata": {},
   "outputs": [],
   "source": [
    "import random\n",
    "random.seed(0)\n",
    "from resources.utils import run_tests"
   ]
  },
  {
   "cell_type": "markdown",
   "metadata": {},
   "source": [
    "### Step 0- Testing utilities\n",
    "Take a look at `resources/utils.py` if you're curious."
   ]
  },
  {
   "cell_type": "markdown",
   "metadata": {},
   "source": [
    "### Step 1- split\n",
    "Given a list let's split it into two lists right down the middle"
   ]
  },
  {
   "cell_type": "code",
   "execution_count": 4,
   "metadata": {},
   "outputs": [],
   "source": [
    "def split(input_list):\n",
    "    \"\"\"\n",
    "    Splits a list into two pieces\n",
    "    :param input_list: list\n",
    "    :return: left and right lists (list, list)\n",
    "    \"\"\"\n",
    "    input_list_len = len(input_list)\n",
    "    midpoint = input_list_len // 2\n",
    "    return input_list[:midpoint], input_list[midpoint:]"
   ]
  },
  {
   "cell_type": "code",
   "execution_count": 5,
   "metadata": {},
   "outputs": [],
   "source": [
    "tests_split = [\n",
    "    ({'input_list': [1, 2, 3]}, ([1], [2, 3])),\n",
    "    ({'input_list': [1, 2, 3, 4]}, ([1, 2], [3, 4])),\n",
    "    ({'input_list': [1, 2, 3, 4, 5]}, ([1, 2], [3, 4, 5])),\n",
    "    ({'input_list': [1]}, ([], [1])),\n",
    "    ({'input_list': []}, ([], []))\n",
    "]"
   ]
  },
  {
   "cell_type": "code",
   "execution_count": 6,
   "metadata": {},
   "outputs": [
    {
     "name": "stdout",
     "output_type": "stream",
     "text": [
      "✓ All tests successful\n"
     ]
    }
   ],
   "source": [
    "run_tests(tests_split, split)"
   ]
  },
  {
   "cell_type": "markdown",
   "metadata": {},
   "source": [
    "### Step 2- merge sorted lists\n",
    "Given two sorted lists we should be able to \"merge\" them into a single list as a linear operation"
   ]
  },
  {
   "cell_type": "code",
   "execution_count": 7,
   "metadata": {},
   "outputs": [],
   "source": [
    "def merge_sorted_lists(list_left, list_right):\n",
    "    \"\"\"\n",
    "    Merge two sorted lists\n",
    "    This is a linear operation\n",
    "    O(len(list_right) + len(list_right))\n",
    "    :param left_list: list\n",
    "    :param right_list: list\n",
    "    :return merged list\n",
    "    \"\"\"\n",
    "    # Special case: one or both of lists are empty\n",
    "    if len(list_left) == 0:\n",
    "        return list_right\n",
    "    elif len(list_right) == 0:\n",
    "        return list_left\n",
    "    \n",
    "    # General case\n",
    "    index_left = index_right = 0\n",
    "    list_merged = []  # list to build and return\n",
    "    list_len_target = len(list_left) + len(list_right)\n",
    "    while len(list_merged) < list_len_target:\n",
    "        if list_left[index_left] <= list_right[index_right]:\n",
    "            # Value on the left list is smaller (or equal so it should be selected)\n",
    "            list_merged.append(list_left[index_left])\n",
    "            index_left += 1\n",
    "        else:\n",
    "            # Right value bigger\n",
    "            list_merged.append(list_right[index_right])\n",
    "            index_right += 1\n",
    "            \n",
    "        # If we are at the end of one of the lists we can take a shortcut\n",
    "        if index_right == len(list_right):\n",
    "            # Reached the end of right\n",
    "            # Append the remainder of left and break\n",
    "            list_merged += list_left[index_left:]\n",
    "            break\n",
    "        elif index_left == len(list_left):\n",
    "            # Reached the end of left\n",
    "            # Append the remainder of right and break\n",
    "            list_merged += list_right[index_right:]\n",
    "            break\n",
    "        \n",
    "    return list_merged"
   ]
  },
  {
   "cell_type": "code",
   "execution_count": 8,
   "metadata": {},
   "outputs": [],
   "source": [
    "tests_merged_sorted_lists = [\n",
    "    ({'list_left': [1, 5], 'list_right': [3, 4]}, [1, 3, 4, 5]),\n",
    "    ({'list_left': [5], 'list_right': [1]}, [1, 5]),\n",
    "    ({'list_left': [], 'list_right': []}, []),\n",
    "    ({'list_left': [1, 2, 3, 5], 'list_right': [4]}, [1, 2, 3, 4, 5]),\n",
    "    ({'list_left': [1, 2, 3], 'list_right': []}, [1, 2, 3]),\n",
    "    ({'list_left': [1], 'list_right': [1, 2, 3]}, [1, 1, 2, 3]),\n",
    "    ({'list_left': [1, 1], 'list_right': [1, 1]}, [1, 1, 1, 1]),\n",
    "    ({'list_left': [1, 1], 'list_right': [1, 2]}, [1, 1, 1, 2]),\n",
    "    ({'list_left': [3, 3], 'list_right': [1, 4]}, [1, 3, 3, 4]),\n",
    "]"
   ]
  },
  {
   "cell_type": "code",
   "execution_count": 9,
   "metadata": {},
   "outputs": [
    {
     "name": "stdout",
     "output_type": "stream",
     "text": [
      "✓ All tests successful\n"
     ]
    }
   ],
   "source": [
    "run_tests(tests_merged_sorted_lists, merge_sorted_lists)"
   ]
  },
  {
   "cell_type": "markdown",
   "metadata": {},
   "source": [
    "### Step 3- merge sort\n",
    "- Merge sort only needs to utilize the previous 2 functions\n",
    "- We need to split the lists until they have a single element\n",
    "- A list with a single element is sorted (duh)\n",
    "- Now we can merge these single-element (or empty) lists"
   ]
  },
  {
   "cell_type": "code",
   "execution_count": 127,
   "metadata": {
    "collapsed": true,
    "jupyter": {
     "outputs_hidden": true
    }
   },
   "outputs": [],
   "source": [
    "def merge_sort(input_list):\n",
    "    if len(input_list) <= 1:\n",
    "        return input_list\n",
    "    else:\n",
    "        left, right = split(input_list)\n",
    "        # The following line is the most important piece in this whole thing\n",
    "        return merge_sorted_lists(merge_sort(left), merge_sort(right))"
   ]
  },
  {
   "cell_type": "code",
   "execution_count": 125,
   "metadata": {},
   "outputs": [],
   "source": [
    "random_list = [random.randint(1, 1000) for _ in range(100)]\n",
    "tests_merge_sort = [\n",
    "    ({'input_list': [1, 2]}, [1, 2]),\n",
    "    ({'input_list': [2, 1]}, [1, 2]),\n",
    "    ({'input_list': []}, []),\n",
    "    ({'input_list': [1]}, [1]),\n",
    "    ({'input_list': [5, 1, 1]}, [1, 1, 5]),\n",
    "    ({'input_list': [9, 1, 10, 2]}, [1, 2, 9, 10]),\n",
    "    ({'input_list': range(10)[::-1]}, list(range(10))),\n",
    "    ({'input_list': random_list}, sorted(random_list))\n",
    "]"
   ]
  },
  {
   "cell_type": "code",
   "execution_count": 126,
   "metadata": {},
   "outputs": [
    {
     "name": "stdout",
     "output_type": "stream",
     "text": [
      "✓ All tests successful\n"
     ]
    }
   ],
   "source": [
    "run_tests(tests_merge_sort, merge_sort)"
   ]
  },
  {
   "cell_type": "markdown",
   "metadata": {},
   "source": [
    "## Example walk through\n",
    "`merge_sort` keeps splitting until we get to single-element lists. Once we're there (the base case of recursion) the callers can start applying `merge_sorted_list`. For the following example here's what's going on:\n",
    "- `input_list=[9, 1, 10, 2]`\n",
    "- `left=[9, 1]` and `right=[10, 2]`\n",
    "- `merge_sort([9, 1])` is responsible for sorting `[9, 1]`, let's call it `L1`.\n",
    "- `merge_sort([10, 2])` is reponsible for sorting `[10, 2]`, let's call it `R1`.\n",
    "\n",
    "For `L1`:\n",
    "- `left=[9]` and `right=[1]`\n",
    "- `merge_sort([9])` returns `[9]` since it's the base case and `merge_sort([1])` returns `[1]`\n",
    "- `merge_sorted_lists([9], [1])` returns `[1, 9]` which is sorted\n",
    "\n",
    "Same thing happens for `R1` and the result is `[2, 10]`. Now `merge_sorted_lists(L1, R1)` returns the final answer."
   ]
  },
  {
   "cell_type": "markdown",
   "metadata": {},
   "source": [
    "<img src=\"resources/mergesort.png\">"
   ]
  }
 ],
 "metadata": {
  "anaconda-cloud": {},
  "kernelspec": {
   "display_name": "Python 3",
   "language": "python",
   "name": "python3"
  },
  "language_info": {
   "codemirror_mode": {
    "name": "ipython",
    "version": 3
   },
   "file_extension": ".py",
   "mimetype": "text/x-python",
   "name": "python",
   "nbconvert_exporter": "python",
   "pygments_lexer": "ipython3",
   "version": "3.7.4"
  }
 },
 "nbformat": 4,
 "nbformat_minor": 4
}
